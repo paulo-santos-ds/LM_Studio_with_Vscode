{
 "cells": [
  {
   "cell_type": "code",
   "execution_count": null,
   "metadata": {},
   "outputs": [],
   "source": [
    "from main import generate_response, stream_response\n",
    "\n",
    "# Test regular response\n",
    "print(\"Testing regular response:\")\n",
    "prompt = \"Explique o que é Inteligência Artificial em 3 linhas.\"\n",
    "response = generate_response(prompt)\n",
    "print(f\"Prompt: {prompt}\")\n",
    "print(f\"Response: {response}\")\n",
    "print(\"\\n\" + \"-\"*50 + \"\\n\")"
   ]
  },
  {
   "cell_type": "code",
   "execution_count": null,
   "metadata": {},
   "outputs": [],
   "source": [
    "# Test with different parameters\n",
    "print(\"Testing with custom parameters:\")\n",
    "prompt = \"Gere um poema curto sobre tecnologia.\"\n",
    "response = generate_response(\n",
    "    prompt,\n",
    "    temperature=0.9,\n",
    "    max_tokens=500\n",
    ")\n",
    "print(f\"Prompt: {prompt}\")\n",
    "print(f\"Response: {response}\")\n",
    "print(\"\\n\" + \"-\"*50 + \"\\n\")"
   ]
  },
  {
   "cell_type": "code",
   "execution_count": null,
   "metadata": {},
   "outputs": [],
   "source": [
    "# Test streaming response\n",
    "print(\"Testing streaming response:\")\n",
    "prompt = \"Conte uma história curta sobre um robô.\"\n",
    "print(f\"Prompt: {prompt}\\n\")\n",
    "stream_response(prompt)"
   ]
  },
  {
   "cell_type": "code",
   "execution_count": 9,
   "metadata": {},
   "outputs": [
    {
     "name": "stdout",
     "output_type": "stream",
     "text": [
      "Testing error handling:\n",
      "Error caught successfully: name 'generate_response' is not defined\n"
     ]
    }
   ],
   "source": [
    "# Test error handling\n",
    "print(\"Testing error handling:\")\n",
    "try:\n",
    "    # Try with empty prompt\n",
    "    response = generate_response(\"\")\n",
    "    print(f\"Response: {response}\")\n",
    "except Exception as e:\n",
    "    print(f\"Error caught successfully: {str(e)}\")"
   ]
  },
  {
   "cell_type": "code",
   "execution_count": null,
   "metadata": {},
   "outputs": [],
   "source": [
    "from openai import OpenAI\n",
    "\n",
    "client = OpenAI(\n",
    "+    base_url=\"http://localhost:1234/v1\"\n",
    ")\n",
    "\n",
    "\n",
    "\n"
   ]
  }
 ],
 "metadata": {
  "kernelspec": {
   "display_name": "usr",
   "language": "python",
   "name": "python3"
  },
  "language_info": {
   "codemirror_mode": {
    "name": "ipython",
    "version": 3
   },
   "file_extension": ".py",
   "mimetype": "text/x-python",
   "name": "python",
   "nbconvert_exporter": "python",
   "pygments_lexer": "ipython3",
   "version": "3.12.3"
  }
 },
 "nbformat": 4,
 "nbformat_minor": 2
}
